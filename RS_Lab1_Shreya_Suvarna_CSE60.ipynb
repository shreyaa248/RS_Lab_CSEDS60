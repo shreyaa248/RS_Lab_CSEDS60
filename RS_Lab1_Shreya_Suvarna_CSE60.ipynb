{
  "nbformat": 4,
  "nbformat_minor": 0,
  "metadata": {
    "colab": {
      "provenance": []
    },
    "kernelspec": {
      "name": "python3",
      "display_name": "Python 3"
    },
    "language_info": {
      "name": "python"
    }
  },
  "cells": [
    {
      "cell_type": "code",
      "execution_count": 2,
      "metadata": {
        "colab": {
          "base_uri": "https://localhost:8080/"
        },
        "id": "5cbEQ-D9MFZY",
        "outputId": "95e94f9f-1196-45ed-b621-52fae450f861"
      },
      "outputs": [
        {
          "output_type": "stream",
          "name": "stdout",
          "text": [
            "Resultant Matrix:\n",
            "[13 31 49]\n"
          ]
        }
      ],
      "source": [
        "import numpy as np\n",
        "\n",
        "# Define matrix a (3x3)\n",
        "a = np.array([[1, 2, 3],\n",
        "              [4, 5, 6],\n",
        "              [7, 8, 9]])\n",
        "\n",
        "# Define vector b (3x1)\n",
        "b = np.array([2, 1, 3])\n",
        "\n",
        "# Perform matrix-vector multiplication\n",
        "result = a @ b\n",
        "\n",
        "# Display the result\n",
        "print(\"Resultant Matrix:\")\n",
        "print(result)\n"
      ]
    },
    {
      "cell_type": "code",
      "source": [
        "import numpy as np\n",
        "\n",
        "# Get user input for matrix dimensions\n",
        "rows_a = int(input(\"Enter the number of rows for matrix a: \"))\n",
        "cols_a = int(input(\"Enter the number of columns for matrix a: \"))\n",
        "\n",
        "# Get user input for matrix a\n",
        "print(\"Enter elements for matrix a:\")\n",
        "a = np.array([[float(input()) for j in range(cols_a)] for i in range(rows_a)])\n",
        "\n",
        "# Get user input for vector dimensions\n",
        "rows_b = int(input(\"Enter the number of rows for vector b: \"))\n",
        "\n",
        "# Get user input for vector b\n",
        "print(\"Enter elements for vector b:\")\n",
        "b = np.array([float(input()) for i in range(rows_b)])\n",
        "\n",
        "# Perform matrix-vector multiplication\n",
        "result = a @ b\n",
        "\n",
        "# Display the result\n",
        "print(\"Resultant Matrix:\")\n",
        "print(result)\n"
      ],
      "metadata": {
        "colab": {
          "base_uri": "https://localhost:8080/"
        },
        "id": "5kDCNSQBMKGX",
        "outputId": "b612bad7-275e-4b90-9586-a0e052d4dd2a"
      },
      "execution_count": 4,
      "outputs": [
        {
          "output_type": "stream",
          "name": "stdout",
          "text": [
            "Enter the number of rows for matrix a: 3\n",
            "Enter the number of columns for matrix a: 3\n",
            "Enter elements for matrix a:\n",
            "1\n",
            "2\n",
            "3\n",
            "4\n",
            "5\n",
            "6\n",
            "7\n",
            "8\n",
            "9\n",
            "Enter the number of rows for vector b: 3\n",
            "Enter elements for vector b:\n",
            "1\n",
            "2\n",
            "3\n",
            "Resultant Matrix:\n",
            "[14. 32. 50.]\n"
          ]
        }
      ]
    },
    {
      "cell_type": "code",
      "source": [
        "import numpy as np\n",
        "\n",
        "# Define matrices and vectors\n",
        "m1 = np.array([[1, 2], [3, 4]])  # Replace with your matrix\n",
        "m = np.array([[5, 6], [7, 8]])    # Replace with your matrix\n",
        "\n",
        "# Matrix multiplication using np.matmul\n",
        "result_multiply = np.matmul(m1, m)\n",
        "print(\"Matrix Multiplication Result:\")\n",
        "print(result_multiply)\n",
        "\n",
        "# Transposition using np.transpose\n",
        "result_transpose = np.transpose(m)\n",
        "print(\"\\nTransposed Matrix:\")\n",
        "print(result_transpose)\n",
        "\n",
        "# Matrix inversion using np.linalg.inv\n",
        "result_inverse = np.linalg.inv(m)\n",
        "print(\"\\nInverse Matrix:\")\n",
        "print(result_inverse)\n"
      ],
      "metadata": {
        "colab": {
          "base_uri": "https://localhost:8080/"
        },
        "id": "sqxJB3sxM5xl",
        "outputId": "57e3f1e4-78be-4216-90af-fb3dfb49010c"
      },
      "execution_count": 6,
      "outputs": [
        {
          "output_type": "stream",
          "name": "stdout",
          "text": [
            "Matrix Multiplication Result:\n",
            "[[19 22]\n",
            " [43 50]]\n",
            "\n",
            "Transposed Matrix:\n",
            "[[5 7]\n",
            " [6 8]]\n",
            "\n",
            "Inverse Matrix:\n",
            "[[-4.   3. ]\n",
            " [ 3.5 -2.5]]\n"
          ]
        }
      ]
    },
    {
      "cell_type": "code",
      "source": [],
      "metadata": {
        "id": "DqwBPnI5OjHT"
      },
      "execution_count": null,
      "outputs": []
    }
  ]
}